{
 "cells": [
  {
   "cell_type": "code",
   "execution_count": 1,
   "id": "c6695431-817f-4430-9463-162efb9a7970",
   "metadata": {},
   "outputs": [],
   "source": [
    "import os\n",
    "import h5py\n",
    "from PIL import Image\n",
    "import numpy as np\n",
    "\n",
    "test_h5_filename = os.path.join('/home/toobamode/moradian/CLIP/ControlGAN-master/data/fashiongen', 'fashiongen_256_256_validation.h5')\n",
    "test_file_h5 = h5py.File(test_h5_filename, mode='r')\n",
    "current_h5_file = test_file_h5\n",
    "selected_categories = [b'TOPS', b'SWEATERS', b'PANTS', b'JEANS', b'SHIRTS', b'DRESSES', b'SHORTS', b'SKIRTS']\n",
    "\n",
    "# Select train or test dataset h5 file\n",
    "h5_index = []\n",
    "for i in range(len(current_h5_file['input_category'])):\n",
    "    if current_h5_file['input_category'][i] in selected_categories:\n",
    "        h5_index.append(i) \n",
    "\n",
    "# Create a directory to save the images\n",
    "output_dir = 'image_output'\n",
    "os.makedirs(output_dir, exist_ok=True)\n",
    "\n",
    "# Loop over the selected indices and save the images\n",
    "for idx in h5_index:\n",
    "    img_array = np.array(current_h5_file['input_image'][idx])\n",
    "    img = Image.fromarray(img_array)\n",
    "    img.save(os.path.join(output_dir, f\"RS{idx}.png\"))"
   ]
  }
 ],
 "metadata": {
  "kernelspec": {
   "display_name": "Python 3 (ipykernel)",
   "language": "python",
   "name": "python3"
  },
  "language_info": {
   "codemirror_mode": {
    "name": "ipython",
    "version": 3
   },
   "file_extension": ".py",
   "mimetype": "text/x-python",
   "name": "python",
   "nbconvert_exporter": "python",
   "pygments_lexer": "ipython3",
   "version": "3.8.10"
  }
 },
 "nbformat": 4,
 "nbformat_minor": 5
}
